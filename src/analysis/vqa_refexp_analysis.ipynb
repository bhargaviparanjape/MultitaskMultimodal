{
 "cells": [
  {
   "cell_type": "code",
   "execution_count": 1,
   "metadata": {},
   "outputs": [
    {
     "name": "stdout",
     "output_type": "stream",
     "text": [
      "/home/ubuntu/11777/src/baselines/vqa\n"
     ]
    }
   ],
   "source": [
    "cd /home/ubuntu/11777/src/baselines/vqa/"
   ]
  },
  {
   "cell_type": "code",
   "execution_count": 2,
   "metadata": {},
   "outputs": [],
   "source": [
    "import json"
   ]
  },
  {
   "cell_type": "code",
   "execution_count": 66,
   "metadata": {},
   "outputs": [],
   "source": [
    "WRITE = False"
   ]
  },
  {
   "cell_type": "markdown",
   "metadata": {},
   "source": [
    "## VQA IDs"
   ]
  },
  {
   "cell_type": "code",
   "execution_count": 3,
   "metadata": {},
   "outputs": [],
   "source": [
    "train_answer_file = 'data/v2_mscoco_train2014_annotations.json'\n",
    "train_answers = json.load(open(train_answer_file))['annotations']\n",
    "\n",
    "val_answer_file = 'data/v2_mscoco_val2014_annotations.json'\n",
    "val_answers = json.load(open(val_answer_file))['annotations']\n",
    "\n",
    "train_question_file = 'data/v2_OpenEnded_mscoco_train2014_questions.json'\n",
    "train_questions = json.load(open(train_question_file))['questions']\n",
    "\n",
    "val_question_file = 'data/v2_OpenEnded_mscoco_val2014_questions.json'\n",
    "val_questions = json.load(open(val_question_file))['questions']"
   ]
  },
  {
   "cell_type": "code",
   "execution_count": 11,
   "metadata": {},
   "outputs": [
    {
     "data": {
      "text/plain": [
       "(443757, 443757, 214354, 214354)"
      ]
     },
     "execution_count": 11,
     "metadata": {},
     "output_type": "execute_result"
    }
   ],
   "source": [
    "ta_ids = [x['image_id'] for x in train_answers]\n",
    "tq_ids = [x['image_id'] for x in train_questions]\n",
    "va_ids = [x['image_id'] for x in val_answers]\n",
    "vq_ids = [x['image_id'] for x in val_questions]\n",
    "\n",
    "len(ta_ids), len(tq_ids), len(va_ids), len(vq_ids)"
   ]
  },
  {
   "cell_type": "code",
   "execution_count": null,
   "metadata": {},
   "outputs": [],
   "source": []
  },
  {
   "cell_type": "markdown",
   "metadata": {},
   "source": [
    "## Refexp IDs"
   ]
  },
  {
   "cell_type": "code",
   "execution_count": 12,
   "metadata": {},
   "outputs": [
    {
     "name": "stdout",
     "output_type": "stream",
     "text": [
      "/home/ubuntu/11777/src/baselines/refexp/Google_Refexp_toolbox\n"
     ]
    }
   ],
   "source": [
    "cd /home/ubuntu/11777/src/baselines/refexp/Google_Refexp_toolbox/"
   ]
  },
  {
   "cell_type": "code",
   "execution_count": 13,
   "metadata": {},
   "outputs": [],
   "source": [
    "import scipy\n",
    "%matplotlib inline\n",
    "import numpy as np\n",
    "import skimage.io as io\n",
    "import matplotlib.pyplot as plt\n",
    "import pylab\n",
    "pylab.rcParams['figure.figsize'] = (10.0, 8.0)\n",
    "import matplotlib.patches as mpatches\n",
    "import sys\n",
    "import os\n",
    "\n",
    "# Import Refexp python class\n",
    "# Please MAKE SURE that ./google_refexp_py_lib is in your\n",
    "# python library search path\n",
    "sys.path.append(\"google_refexp_py_lib\")\n",
    "from refexp import Refexp"
   ]
  },
  {
   "cell_type": "code",
   "execution_count": 14,
   "metadata": {},
   "outputs": [
    {
     "name": "stdout",
     "output_type": "stream",
     "text": [
      "loading annotations into memory...\n",
      "Done (t=16.80s)\n",
      "creating index...\n",
      "index created!\n",
      "Dataset loaded.\n",
      "loading annotations into memory...\n",
      "Done (t=9.55s)\n",
      "creating index...\n",
      "index created!\n",
      "Dataset loaded.\n"
     ]
    }
   ],
   "source": [
    "# Specify datasets path.\n",
    "refexp_filename_train='google_refexp_dataset_release/google_refexp_train_201511_coco_aligned.json'\n",
    "coco_filename_train='external/coco/annotations/instances_train2014.json'\n",
    "refexp_filename_val='google_refexp_dataset_release/google_refexp_val_201511_coco_aligned.json'\n",
    "coco_filename_val='external/coco/annotations/instances_val2014.json'\n",
    "\n",
    "# Create Refexp instance.\n",
    "refexp_train = Refexp(refexp_filename_train, coco_filename_train)\n",
    "refexp_val = Refexp(refexp_filename_val, coco_filename_val)"
   ]
  },
  {
   "cell_type": "code",
   "execution_count": 23,
   "metadata": {},
   "outputs": [
    {
     "data": {
      "text/plain": [
       "(24698, 4650)"
      ]
     },
     "execution_count": 23,
     "metadata": {},
     "output_type": "execute_result"
    }
   ],
   "source": [
    "len(refexp_train.imgIds), len(refexp_val.imgIds)"
   ]
  },
  {
   "cell_type": "markdown",
   "metadata": {},
   "source": [
    "## Common IDs"
   ]
  },
  {
   "cell_type": "code",
   "execution_count": 24,
   "metadata": {},
   "outputs": [
    {
     "data": {
      "text/plain": [
       "(24698, 0)"
      ]
     },
     "execution_count": 24,
     "metadata": {},
     "output_type": "execute_result"
    }
   ],
   "source": [
    "common_train_ids = set(refexp_train.imgIds).intersection(set(tq_ids))\n",
    "common_val_ids = set(refexp_val.imgIds).intersection(set(vq_ids))\n",
    "\n",
    "len(common_train_ids), len(common_val_ids)"
   ]
  },
  {
   "cell_type": "code",
   "execution_count": 25,
   "metadata": {},
   "outputs": [
    {
     "data": {
      "text/plain": [
       "array([207360, 138201, 432526, 404812, 101467, 386203, 235098, 389731,\n",
       "       412281,  68576, 529647, 111067, 518335, 308180, 243909, 525636,\n",
       "       200971, 568963, 288610, 544410, 566700, 217043, 447016, 446726,\n",
       "        36663, 114561, 137730,  88613, 496457,  66337, 435523, 147278,\n",
       "       517534, 328995, 216757,  83149, 573975, 499545, 177193, 371435,\n",
       "       551733, 132516, 281237, 406666, 146510, 485777, 172655, 352886,\n",
       "        37433,  25105,  23702, 425859, 318953, 170119, 427803,  28038,\n",
       "       274758, 415728, 164102, 525555, 265536, 189838, 426997, 192574,\n",
       "       557434,  30065, 427238,  26939,  60999,  19374, 244646, 226232,\n",
       "       517879, 570019, 286349, 531337, 238712, 328917, 227318, 364701,\n",
       "       220991,  34389, 207231, 147369, 497274, 351239, 280199, 384953,\n",
       "       256278, 220972, 569602, 124739, 152531, 537475,  44687,  81485,\n",
       "       560587,  88210, 197951, 334596])"
      ]
     },
     "execution_count": 25,
     "metadata": {},
     "output_type": "execute_result"
    }
   ],
   "source": [
    "n_heldout = 100\n",
    "heldout_ids = np.random.permutation(list(common_train_ids))[:n_heldout]\n",
    "heldout_ids"
   ]
  },
  {
   "cell_type": "code",
   "execution_count": 27,
   "metadata": {},
   "outputs": [
    {
     "data": {
      "text/plain": [
       "100"
      ]
     },
     "execution_count": 27,
     "metadata": {},
     "output_type": "execute_result"
    }
   ],
   "source": [
    "len([i for i in heldout_ids if i in tq_ids])"
   ]
  },
  {
   "cell_type": "markdown",
   "metadata": {},
   "source": [
    "## Save revised train files"
   ]
  },
  {
   "cell_type": "markdown",
   "metadata": {},
   "source": [
    "### VQA"
   ]
  },
  {
   "cell_type": "code",
   "execution_count": 30,
   "metadata": {},
   "outputs": [
    {
     "name": "stdout",
     "output_type": "stream",
     "text": [
      "/home/ubuntu/11777/src/baselines/vqa\n"
     ]
    }
   ],
   "source": [
    "cd /home/ubuntu/11777/src/baselines/vqa/"
   ]
  },
  {
   "cell_type": "code",
   "execution_count": 46,
   "metadata": {},
   "outputs": [],
   "source": [
    "train_answer_file = 'data/v2_mscoco_train2014_annotations.json'\n",
    "train_answers = json.load(open(train_answer_file))\n",
    "\n",
    "train_question_file = 'data/v2_OpenEnded_mscoco_train2014_questions.json'\n",
    "train_questions = json.load(open(train_question_file))\n",
    "\n",
    "val_answer_file = 'data/v2_mscoco_val2014_annotations.json'\n",
    "val_answers = json.load(open(val_answer_file))\n",
    "\n",
    "val_question_file = 'data/v2_OpenEnded_mscoco_val2014_questions.json'\n",
    "val_questions = json.load(open(val_question_file))\n",
    "\n",
    "train_answer_file_filtered = 'data/v2_mscoco_train2014_annotations_filtered.json'\n",
    "train_question_file_filtered = 'data/v2_OpenEnded_mscoco_train2014_questions_filtered.json'\n",
    "val_answer_file_heldout = 'data/v2_mscoco_val2014_annotations_heldout.json'\n",
    "val_question_file_heldout = 'data/v2_OpenEnded_mscoco_val2014_questions_heldout.json'"
   ]
  },
  {
   "cell_type": "code",
   "execution_count": 47,
   "metadata": {},
   "outputs": [],
   "source": [
    "heldout_ids_set = set(heldout_ids)\n",
    "\n",
    "val_answers['annotations'] = [x for x in train_answers['annotations'] if x['image_id'] in heldout_ids_set]\n",
    "val_questions['questions'] = [x for x in train_questions['questions'] if x['image_id'] in heldout_ids_set]\n",
    "\n",
    "train_answers['annotations'] = [x for x in train_answers['annotations'] if x['image_id'] not in heldout_ids_set]\n",
    "train_questions['questions'] = [x for x in train_questions['questions'] if x['image_id'] not in heldout_ids_set]"
   ]
  },
  {
   "cell_type": "code",
   "execution_count": 48,
   "metadata": {},
   "outputs": [
    {
     "data": {
      "text/plain": [
       "(443283, 443283, 474, 474)"
      ]
     },
     "execution_count": 48,
     "metadata": {},
     "output_type": "execute_result"
    }
   ],
   "source": [
    "ta_ids = [x['image_id'] for x in train_answers['annotations']]\n",
    "tq_ids = [x['image_id'] for x in train_questions['questions']]\n",
    "va_ids = [x['image_id'] for x in val_answers['annotations']]\n",
    "vq_ids = [x['image_id'] for x in val_questions['questions']]\n",
    "\n",
    "len(ta_ids), len(tq_ids), len(va_ids), len(vq_ids)"
   ]
  },
  {
   "cell_type": "code",
   "execution_count": 50,
   "metadata": {},
   "outputs": [],
   "source": [
    "if WRITE:\n",
    "    with open(train_answer_file_filtered, 'w') as fp:\n",
    "        json.dump(train_answers, fp)\n",
    "\n",
    "    with open(train_question_file_filtered, 'w') as fp:\n",
    "        json.dump(train_questions, fp)\n",
    "\n",
    "    with open(val_answer_file_heldout, 'w') as fp:\n",
    "        json.dump(val_answers, fp)\n",
    "\n",
    "    with open(val_question_file_heldout, 'w') as fp:\n",
    "        json.dump(val_questions, fp)"
   ]
  },
  {
   "cell_type": "code",
   "execution_count": 51,
   "metadata": {},
   "outputs": [
    {
     "data": {
      "text/plain": [
       "(443283, 443283, 474, 474)"
      ]
     },
     "execution_count": 51,
     "metadata": {},
     "output_type": "execute_result"
    }
   ],
   "source": [
    "train_answer_file = 'data/v2_mscoco_train2014_annotations_filtered.json'\n",
    "train_answers = json.load(open(train_answer_file))['annotations']\n",
    "\n",
    "val_answer_file = 'data/v2_mscoco_val2014_annotations_heldout.json'\n",
    "val_answers = json.load(open(val_answer_file))['annotations']\n",
    "\n",
    "train_question_file = 'data/v2_OpenEnded_mscoco_train2014_questions_filtered.json'\n",
    "train_questions = json.load(open(train_question_file))['questions']\n",
    "\n",
    "val_question_file = 'data/v2_OpenEnded_mscoco_val2014_questions_heldout.json'\n",
    "val_questions = json.load(open(val_question_file))['questions']\n",
    "\n",
    "ta_ids = [x['image_id'] for x in train_answers]\n",
    "tq_ids = [x['image_id'] for x in train_questions]\n",
    "va_ids = [x['image_id'] for x in val_answers]\n",
    "vq_ids = [x['image_id'] for x in val_questions]\n",
    "\n",
    "len(ta_ids), len(tq_ids), len(va_ids), len(vq_ids)"
   ]
  },
  {
   "cell_type": "markdown",
   "metadata": {},
   "source": [
    "### Refexp"
   ]
  },
  {
   "cell_type": "code",
   "execution_count": 53,
   "metadata": {},
   "outputs": [
    {
     "name": "stdout",
     "output_type": "stream",
     "text": [
      "/home/ubuntu/11777/src/baselines/refexp/Google_Refexp_toolbox\n"
     ]
    }
   ],
   "source": [
    "cd /home/ubuntu/11777/src/baselines/refexp/Google_Refexp_toolbox/"
   ]
  },
  {
   "cell_type": "code",
   "execution_count": 54,
   "metadata": {},
   "outputs": [],
   "source": [
    "# Specify datasets path.\n",
    "refexp_filename_train1='/home/ubuntu/11777/src/baselines/refexp/Google_Refexp_toolbox/google_refexp_dataset_release/google_refexp_train_201511_coco_aligned.json'\n",
    "refexp_filename_val1='/home/ubuntu/11777/src/baselines/refexp/Google_Refexp_toolbox/google_refexp_dataset_release/google_refexp_val_201511_coco_aligned.json'\n",
    "\n",
    "refexp_filename_train2='/home/ubuntu/11777/data/refexp/google_refexp_train_201511_coco_aligned_and_labeled.json'\n",
    "refexp_filename_val2='/home/ubuntu/11777/data/refexp/google_refexp_val_201511_coco_aligned_and_labeled.json'\n",
    "\n",
    "refexp_train1 = json.load(open(refexp_filename_train1))\n",
    "refexp_val1 = json.load(open(refexp_filename_val1))\n",
    "refexp_train2 = json.load(open(refexp_filename_train2))\n",
    "refexp_val2 = json.load(open(refexp_filename_val2))"
   ]
  },
  {
   "cell_type": "code",
   "execution_count": 65,
   "metadata": {},
   "outputs": [
    {
     "data": {
      "text/plain": [
       "(24698, 4650, 24698, 4650)"
      ]
     },
     "execution_count": 65,
     "metadata": {},
     "output_type": "execute_result"
    }
   ],
   "source": [
    "train_ids1 = [y['image_id'] for x, y in refexp_train1['annotations'].items()]\n",
    "val_ids1 = [y['image_id'] for x, y in refexp_val1['annotations'].items()]\n",
    "train_ids2 = [y['image_id'] for x, y in refexp_train2['annotations'].items()]\n",
    "val_ids2 = [y['image_id'] for x, y in refexp_val2['annotations'].items()]\n",
    "\n",
    "len(set(train_ids1)), len(set(val_ids1)), len(set(train_ids2)), len(set(val_ids2))"
   ]
  },
  {
   "cell_type": "code",
   "execution_count": 67,
   "metadata": {},
   "outputs": [],
   "source": [
    "refexp_filename_train = '/home/ubuntu/11777/data/refexp/google_refexp_train_201511_coco_aligned_and_labeled.json'\n",
    "refexp_filename_val = '/home/ubuntu/11777/data/refexp/google_refexp_val_201511_coco_aligned_and_labeled.json'\n",
    "\n",
    "refexp_filename_train_filtered = '/home/ubuntu/11777/data/refexp/google_refexp_train_201511_coco_aligned_and_labeled_filtered.json'\n",
    "refexp_filename_val_heldout = '/home/ubuntu/11777/data/refexp/google_refexp_val_201511_coco_aligned_and_labeled_heldout.json'\n",
    "\n",
    "refexp_train = json.load(open(refexp_filename_train))\n",
    "refexp_val = json.load(open(refexp_filename_val))"
   ]
  },
  {
   "cell_type": "code",
   "execution_count": 70,
   "metadata": {},
   "outputs": [],
   "source": [
    "filtered_annotations = {}\n",
    "heldout_annotations = {}\n",
    "\n",
    "for ann_id, ann in refexp_train['annotations'].items():\n",
    "    if int(ann['image_id']) in heldout_ids_set:\n",
    "        heldout_annotations[ann_id] = ann\n",
    "    else:\n",
    "        filtered_annotations[ann_id] = ann\n",
    "\n",
    "refexp_train['annotations'] = filtered_annotations\n",
    "refexp_val['annotations'] = heldout_annotations"
   ]
  },
  {
   "cell_type": "code",
   "execution_count": 71,
   "metadata": {},
   "outputs": [],
   "source": [
    "if WRITE:\n",
    "    with open(refexp_filename_train_filtered, 'w') as fp:\n",
    "        json.dump(refexp_train, fp)\n",
    "    with open(refexp_filename_val_heldout, 'w') as fp:\n",
    "        json.dump(refexp_val, fp)"
   ]
  },
  {
   "cell_type": "code",
   "execution_count": 72,
   "metadata": {},
   "outputs": [
    {
     "data": {
      "text/plain": [
       "(44646, 174, 24598, 100)"
      ]
     },
     "execution_count": 72,
     "metadata": {},
     "output_type": "execute_result"
    }
   ],
   "source": [
    "refexp_filename_train_filtered = '/home/ubuntu/11777/data/refexp/google_refexp_train_201511_coco_aligned_and_labeled_filtered.json'\n",
    "refexp_filename_val_heldout = '/home/ubuntu/11777/data/refexp/google_refexp_val_201511_coco_aligned_and_labeled_heldout.json'\n",
    "\n",
    "refexp_train_filtered = json.load(open(refexp_filename_train_filtered))\n",
    "refexp_val_heldout = json.load(open(refexp_filename_val_heldout))\n",
    "\n",
    "train_ids = [y['image_id'] for x, y in refexp_train_filtered['annotations'].items()]\n",
    "val_ids = [y['image_id'] for x, y in refexp_val_heldout['annotations'].items()]\n",
    "\n",
    "len(train_ids), len(val_ids), len(set(train_ids)), len(set(val_ids))"
   ]
  },
  {
   "cell_type": "code",
   "execution_count": null,
   "metadata": {},
   "outputs": [],
   "source": []
  }
 ],
 "metadata": {
  "kernelspec": {
   "display_name": "Environment (conda_pytorch_p27)",
   "language": "python",
   "name": "conda_pytorch_p27"
  },
  "language_info": {
   "codemirror_mode": {
    "name": "ipython",
    "version": 2
   },
   "file_extension": ".py",
   "mimetype": "text/x-python",
   "name": "python",
   "nbconvert_exporter": "python",
   "pygments_lexer": "ipython2",
   "version": "2.7.15"
  }
 },
 "nbformat": 4,
 "nbformat_minor": 2
}
